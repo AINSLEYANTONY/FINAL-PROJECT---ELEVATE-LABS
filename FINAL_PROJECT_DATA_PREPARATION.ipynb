{
  "nbformat": 4,
  "nbformat_minor": 0,
  "metadata": {
    "colab": {
      "provenance": [],
      "authorship_tag": "ABX9TyMbcAFQPiKmwABFp0nwCyt2"
    },
    "kernelspec": {
      "name": "python3",
      "display_name": "Python 3"
    },
    "language_info": {
      "name": "python"
    }
  },
  "cells": [
    {
      "cell_type": "code",
      "execution_count": 1,
      "metadata": {
        "colab": {
          "base_uri": "https://localhost:8080/"
        },
        "id": "DhSVQjrN478O",
        "outputId": "d7cad153-4557-40ec-8aa6-e82785241cff"
      },
      "outputs": [
        {
          "output_type": "stream",
          "name": "stdout",
          "text": [
            "✅ Data preparation complete. Output saved as 'cleaned_emissions_data.xlsx'.\n"
          ]
        }
      ],
      "source": [
        "import pandas as pd\n",
        "\n",
        "df = pd.read_csv(\"/content/dataset.csv\")\n",
        "\n",
        "df['date'] = pd.to_datetime(df['date'], format='%d/%m/%Y')\n",
        "df['year'] = df['date'].dt.year\n",
        "\n",
        "df['sector'] = df['sector'].str.strip().str.title()\n",
        "\n",
        "grouped_df = df.groupby(['country', 'year', 'sector'], as_index=False)['value'].sum()\n",
        "\n",
        "grouped_df.to_excel('cleaned_emissions_data.xlsx', index=False)\n",
        "\n",
        "print(\"✅ Data preparation complete. Output saved as 'cleaned_emissions_data.xlsx'.\")\n"
      ]
    }
  ]
}