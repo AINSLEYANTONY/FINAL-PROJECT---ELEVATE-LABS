{
  "nbformat": 4,
  "nbformat_minor": 0,
  "metadata": {
    "colab": {
      "provenance": [],
      "authorship_tag": "ABX9TyPiIKGEtgQpz8nnC+Do/D0w",
      "include_colab_link": true
    },
    "kernelspec": {
      "name": "python3",
      "display_name": "Python 3"
    },
    "language_info": {
      "name": "python"
    }
  },
  "cells": [
    {
      "cell_type": "markdown",
      "metadata": {
        "id": "view-in-github",
        "colab_type": "text"
      },
      "source": [
        "<a href=\"https://colab.research.google.com/github/AINSLEYANTONY/FINAL-PROJECT---ELEVATE-LABS/blob/main/FINAL_PROJECT_DATA_PREPARATION.ipynb\" target=\"_parent\"><img src=\"https://colab.research.google.com/assets/colab-badge.svg\" alt=\"Open In Colab\"/></a>"
      ]
    },
    {
      "cell_type": "code",
      "execution_count": 2,
      "metadata": {
        "colab": {
          "base_uri": "https://localhost:8080/"
        },
        "id": "DhSVQjrN478O",
        "outputId": "34514ab8-b560-498e-a8c2-a070c7716dd1"
      },
      "outputs": [
        {
          "output_type": "stream",
          "name": "stdout",
          "text": [
            "Data preparation complete. Output saved as 'cleaned_emissions_data.xlsx'.\n"
          ]
        }
      ],
      "source": [
        "import pandas as pd\n",
        "\n",
        "df = pd.read_csv(\"/content/dataset.csv\")\n",
        "\n",
        "df['date'] = pd.to_datetime(df['date'], format='%d/%m/%Y')\n",
        "df['year'] = df['date'].dt.year\n",
        "\n",
        "df['sector'] = df['sector'].str.strip().str.title()\n",
        "\n",
        "grouped_df = df.groupby(['country', 'year', 'sector'], as_index=False)['value'].sum()\n",
        "\n",
        "grouped_df.to_excel('cleaned_emissions_data.xlsx', index=False)\n",
        "\n",
        "print(\"Data preparation complete. Output saved as 'cleaned_emissions_data.xlsx'.\")\n"
      ]
    }
  ]
}