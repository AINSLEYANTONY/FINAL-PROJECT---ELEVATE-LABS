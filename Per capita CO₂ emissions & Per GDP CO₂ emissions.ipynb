{
  "nbformat": 4,
  "nbformat_minor": 0,
  "metadata": {
    "colab": {
      "provenance": [],
      "authorship_tag": "ABX9TyONHbaef+Me4jpkCXetf4Ae"
    },
    "kernelspec": {
      "name": "python3",
      "display_name": "Python 3"
    },
    "language_info": {
      "name": "python"
    }
  },
  "cells": [
    {
      "cell_type": "code",
      "execution_count": 5,
      "metadata": {
        "colab": {
          "base_uri": "https://localhost:8080/"
        },
        "id": "Jo9a6Bvf6PJh",
        "outputId": "7e72e1bf-d549-493c-917e-c719e11a0dd7"
      },
      "outputs": [
        {
          "output_type": "stream",
          "name": "stdout",
          "text": [
            "Enriched dataset saved as 'enriched_emissions_data.xlsx'\n"
          ]
        }
      ],
      "source": [
        "import pandas as pd\n",
        "df = pd.read_csv(\"/content/cleaned_emissions_data.csv\")\n",
        "unique_years = df['year'].unique()\n",
        "unique_countries = df['country'].unique()\n",
        "\n",
        "# Simulated population data (in number of people)\n",
        "population_data = pd.DataFrame([\n",
        "    {'country': country, 'year': year, 'population': 50_000_000 + hash(country + str(year)) % 100_000_000}\n",
        "    for country in unique_countries for year in unique_years\n",
        "])\n",
        "\n",
        "# Simulated GDP data (in USD)\n",
        "gdp_data = pd.DataFrame([\n",
        "    {'country': country, 'year': year, 'gdp': 300_000_000_000 + hash(country + \"gdp\" + str(year)) % 700_000_000_000}\n",
        "    for country in unique_countries for year in unique_years\n",
        "])\n",
        "\n",
        "enriched_df = df.merge(population_data, on=['country', 'year'], how='left')\n",
        "enriched_df = enriched_df.merge(gdp_data, on=['country', 'year'], how='left')\n",
        "\n",
        "enriched_df['co2_per_capita'] = enriched_df['value'] / enriched_df['population']\n",
        "enriched_df['co2_per_gdp'] = enriched_df['value'] / enriched_df['gdp']\n",
        "\n",
        "enriched_df.to_excel(\"enriched_emissions_data.xlsx\", index=False)\n",
        "\n",
        "print(\"Enriched dataset saved as 'enriched_emissions_data.xlsx'\")\n"
      ]
    }
  ]
}